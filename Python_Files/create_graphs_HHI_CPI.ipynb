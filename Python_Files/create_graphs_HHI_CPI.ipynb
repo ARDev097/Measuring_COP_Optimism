{
 "cells": [
  {
   "cell_type": "code",
   "execution_count": 1,
   "metadata": {},
   "outputs": [],
   "source": [
    "import dash\n",
    "from dash import dcc, html\n",
    "import pandas as pd\n",
    "import plotly.express as px\n",
    "import plotly.io as pio\n",
    "import matplotlib.pyplot as plt"
   ]
  },
  {
   "cell_type": "code",
   "execution_count": 2,
   "metadata": {},
   "outputs": [],
   "source": [
    "# Load the HHI and CPI results from the CSV file\n",
    "results_df = pd.read_csv(\"../Data_Source/output_hhi_cpi.csv\")"
   ]
  },
  {
   "cell_type": "code",
   "execution_count": 3,
   "metadata": {},
   "outputs": [
    {
     "name": "stdout",
     "output_type": "stream",
     "text": [
      "<class 'pandas.core.frame.DataFrame'>\n",
      "RangeIndex: 240 entries, 0 to 239\n",
      "Data columns (total 3 columns):\n",
      " #   Column  Non-Null Count  Dtype  \n",
      "---  ------  --------------  -----  \n",
      " 0   date    240 non-null    object \n",
      " 1   HHI     240 non-null    float64\n",
      " 2   CPI     240 non-null    float64\n",
      "dtypes: float64(2), object(1)\n",
      "memory usage: 5.8+ KB\n"
     ]
    }
   ],
   "source": [
    "results_df.info()"
   ]
  },
  {
   "cell_type": "code",
   "execution_count": 4,
   "metadata": {},
   "outputs": [],
   "source": [
    "# Ensure the 'date' column is in datetime format\n",
    "results_df['date'] = pd.to_datetime(results_df['date'], format='%Y-%m-%d')"
   ]
  },
  {
   "cell_type": "code",
   "execution_count": 5,
   "metadata": {},
   "outputs": [
    {
     "name": "stdout",
     "output_type": "stream",
     "text": [
      "<class 'pandas.core.frame.DataFrame'>\n",
      "RangeIndex: 240 entries, 0 to 239\n",
      "Data columns (total 3 columns):\n",
      " #   Column  Non-Null Count  Dtype         \n",
      "---  ------  --------------  -----         \n",
      " 0   date    240 non-null    datetime64[ns]\n",
      " 1   HHI     240 non-null    float64       \n",
      " 2   CPI     240 non-null    float64       \n",
      "dtypes: datetime64[ns](1), float64(2)\n",
      "memory usage: 5.8 KB\n"
     ]
    }
   ],
   "source": [
    "results_df.info()"
   ]
  },
  {
   "cell_type": "code",
   "execution_count": 6,
   "metadata": {},
   "outputs": [],
   "source": [
    "# Create the interactive line plot\n",
    "fig = px.line(results_df, x='date', y='CPI', \n",
    "              title='CPI Over Time for Optimism', \n",
    "              labels={'CPI': 'Concentration of Power Index (CPI)', 'date': 'Date'})\n",
    "\n",
    "# Customize the layout (optional)\n",
    "fig.update_layout(\n",
    "    xaxis_title='Date',\n",
    "    yaxis_title='CPI',\n",
    "    hovermode='x unified'\n",
    ")\n",
    "\n",
    "# Customize the hover template\n",
    "fig.update_traces(\n",
    "    hovertemplate=\"<b>Date:</b> %{x}<br><b>CPI:</b> %{y}<extra></extra>\"\n",
    ")\n",
    "\n",
    "# Save the plot to an HTML file\n",
    "pio.write_html(fig, file='cpi_over_time.html', auto_open=True)\n"
   ]
  },
  {
   "cell_type": "code",
   "execution_count": 7,
   "metadata": {},
   "outputs": [],
   "source": [
    "# Create the interactive line plot\n",
    "fig = px.line(results_df, x='date', y='HHI', \n",
    "              title='HHI Over Time for Optimism', \n",
    "              labels={'HHI': 'Herfindahl-Hirschman Index (HHI)', 'date': 'Date'})\n",
    "\n",
    "# Customize the layout (optional)\n",
    "fig.update_layout(\n",
    "    xaxis_title='Date',\n",
    "    yaxis_title='HHI',\n",
    "    hovermode='x unified'\n",
    ")\n",
    "\n",
    "# Customize the hover template\n",
    "fig.update_traces(\n",
    "    hovertemplate=\"<b>Date:</b> %{x}<br><b>HHI:</b> %{y}<extra></extra>\"\n",
    ")\n",
    "\n",
    "# Save the plot to an HTML file\n",
    "pio.write_html(fig, file='hhi_over_time.html', auto_open=True)"
   ]
  },
  {
   "cell_type": "code",
   "execution_count": 8,
   "metadata": {},
   "outputs": [],
   "source": [
    "# Calculate the 7-day moving average of CPI\n",
    "results_df['CPI_7_day_MA'] = results_df['CPI'].rolling(window=7).mean()\n",
    "\n",
    "# Drop rows where moving average is NaN (first 6 rows will be NaN)\n",
    "df = results_df.dropna(subset=['CPI_7_day_MA'])\n",
    "\n",
    "# Create the interactive line plot for 7-day moving average CPI\n",
    "fig = px.line(df, x='date', y='CPI_7_day_MA', \n",
    "              title='7-Day Moving Average of CPI for Optimism', \n",
    "              labels={'CPI_7_day_MA': '7-Day Moving Average CPI', 'date': 'Date'})\n",
    "\n",
    "# Customize the layout (optional)\n",
    "fig.update_layout(\n",
    "    xaxis_title='Date',\n",
    "    yaxis_title='CPI (7-Day Moving Average)',\n",
    "    hovermode='x unified'\n",
    ")\n",
    "\n",
    "# Customize the hover template\n",
    "fig.update_traces(\n",
    "    hovertemplate=\"<b>Date:</b> %{x}<br><b>7-Day Moving Average CPI:</b> %{y}<extra></extra>\"\n",
    ")\n",
    "\n",
    "# Save the plot to an HTML file\n",
    "pio.write_html(fig, file='cpi_7_day_moving_average.html', auto_open=True)\n"
   ]
  }
 ],
 "metadata": {
  "kernelspec": {
   "display_name": "measuring_COP",
   "language": "python",
   "name": "python3"
  },
  "language_info": {
   "codemirror_mode": {
    "name": "ipython",
    "version": 3
   },
   "file_extension": ".py",
   "mimetype": "text/x-python",
   "name": "python",
   "nbconvert_exporter": "python",
   "pygments_lexer": "ipython3",
   "version": "3.12.3"
  }
 },
 "nbformat": 4,
 "nbformat_minor": 2
}
