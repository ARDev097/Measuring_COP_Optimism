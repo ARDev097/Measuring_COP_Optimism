{
 "cells": [
  {
   "cell_type": "code",
   "execution_count": 1,
   "metadata": {},
   "outputs": [],
   "source": [
    "import pandas as pd"
   ]
  },
  {
   "cell_type": "code",
   "execution_count": 2,
   "metadata": {},
   "outputs": [],
   "source": [
    "data = pd.read_csv(\"../Data_Source/optimism_delegate.csv\")"
   ]
  },
  {
   "cell_type": "code",
   "execution_count": 3,
   "metadata": {},
   "outputs": [
    {
     "name": "stdout",
     "output_type": "stream",
     "text": [
      "<class 'pandas.core.frame.DataFrame'>\n",
      "RangeIndex: 226569 entries, 0 to 226568\n",
      "Data columns (total 2 columns):\n",
      " #   Column        Non-Null Count   Dtype  \n",
      "---  ------        --------------   -----  \n",
      " 0   delegate      226569 non-null  object \n",
      " 1   voting_power  226569 non-null  float64\n",
      "dtypes: float64(1), object(1)\n",
      "memory usage: 3.5+ MB\n"
     ]
    }
   ],
   "source": [
    "data.info()"
   ]
  },
  {
   "cell_type": "code",
   "execution_count": 4,
   "metadata": {},
   "outputs": [],
   "source": [
    "# Load data from CSV files\n",
    "citizens_round2 = pd.read_csv(\"../Data_Source/Retro Round 2.csv\", encoding='latin1')\n",
    "citizens_round3 = pd.read_csv(\"../Data_Source/Retro Round 3.csv\", encoding='latin1')\n",
    "citizens_round4 = pd.read_csv(\"../Data_Source/Retro Round 4.csv\", encoding='latin1')\n",
    "grants = pd.read_csv(\"../Data_Source/Grants_Council.csv\", encoding='latin1')\n",
    "grants_mm_season5 = pd.read_csv(\"../Data_Source/Grants_Council_MM.csv\", encoding='latin1')\n",
    "dab_season5 = pd.read_csv(\"../Data_Source/Developer_Advisory_Board.csv\", encoding='latin1')\n",
    "coc_season5 = pd.read_csv(\"../Data_Source/Code_of_Conduct_Council.csv\", encoding='latin1')"
   ]
  },
  {
   "cell_type": "code",
   "execution_count": 5,
   "metadata": {},
   "outputs": [],
   "source": [
    "# Drop rows with null values in the 'address' column for each DataFrame\n",
    "citizens_round2.dropna(subset=['address'], inplace=True)\n",
    "citizens_round3.dropna(subset=['address'], inplace=True)\n",
    "citizens_round4.dropna(subset=['address'], inplace=True)\n",
    "grants.dropna(subset=['address'], inplace=True)\n",
    "grants_mm_season5.dropna(subset=['address'], inplace=True)\n",
    "dab_season5.dropna(subset=['address'], inplace=True)\n",
    "coc_season5.dropna(subset=['address'], inplace=True)"
   ]
  },
  {
   "cell_type": "code",
   "execution_count": 6,
   "metadata": {},
   "outputs": [],
   "source": [
    "# Filter grants data by season\n",
    "grants_season3 = grants[grants['season'] == 3]\n",
    "grants_season4 = grants[grants['season'] == 4]\n",
    "grants_season5 = grants[grants['season'] == 5]"
   ]
  },
  {
   "cell_type": "code",
   "execution_count": 7,
   "metadata": {},
   "outputs": [],
   "source": [
    "# Helper function to add missing delegates\n",
    "def add_missing_delegates(data, new_addresses):\n",
    "    # Find addresses not in the current delegate list\n",
    "    missing_addresses = set(new_addresses['address'].str.lower()) - set(data['delegate'].str.lower())\n",
    "    \n",
    "    # Create a DataFrame for these missing addresses with voting_power = 0\n",
    "    missing_df = pd.DataFrame({\n",
    "        'delegate': list(missing_addresses),\n",
    "        'voting_power': 0\n",
    "    })\n",
    "    \n",
    "    # Merge with the original data\n",
    "    data = pd.concat([data, missing_df], ignore_index=True)\n",
    "    return data"
   ]
  },
  {
   "cell_type": "code",
   "execution_count": 8,
   "metadata": {},
   "outputs": [],
   "source": [
    "# Add missing delegates\n",
    "data = add_missing_delegates(data, citizens_round2)\n",
    "data = add_missing_delegates(data, citizens_round3)\n",
    "data = add_missing_delegates(data, citizens_round4)\n",
    "data = add_missing_delegates(data, grants_season3)\n",
    "data = add_missing_delegates(data, grants_season4)\n",
    "data = add_missing_delegates(data, grants_season5)\n",
    "data = add_missing_delegates(data, grants_mm_season5)\n",
    "data = add_missing_delegates(data, dab_season5)\n",
    "data = add_missing_delegates(data, coc_season5)"
   ]
  },
  {
   "cell_type": "code",
   "execution_count": 9,
   "metadata": {},
   "outputs": [],
   "source": [
    "# Add the columns\n",
    "data['th_vp'] = None\n",
    "data['ch_member_r2'] = None\n",
    "data['ch_vp_r2'] = None\n",
    "data['ch_member_r3'] = None\n",
    "data['ch_vp_r3'] = None\n",
    "data['ch_member_r4'] = None\n",
    "data['ch_vp_r4'] = None\n",
    "data['gc_member_s3'] = None\n",
    "data['gc_vp_s3'] = None\n",
    "data['gc_member_s4'] = None\n",
    "data['gc_vp_s4'] = None\n",
    "data['gc_member_s5'] = None\n",
    "data['gc_vp_s5'] = None\n",
    "data['gc_member_mm_s5'] = None\n",
    "data['gc_vp_mm_s5'] = None\n",
    "data['sc_member_s5'] = None\n",
    "data['sc_vp_s5'] = None\n",
    "data['coc_member_s5'] = None\n",
    "data['coc_vp_s5'] = None\n",
    "data['dab_member_s5'] = None\n",
    "data['dab_vp_s5'] = None"
   ]
  },
  {
   "cell_type": "code",
   "execution_count": 10,
   "metadata": {},
   "outputs": [
    {
     "name": "stdout",
     "output_type": "stream",
     "text": [
      "<class 'pandas.core.frame.DataFrame'>\n",
      "RangeIndex: 226659 entries, 0 to 226658\n",
      "Data columns (total 23 columns):\n",
      " #   Column           Non-Null Count   Dtype  \n",
      "---  ------           --------------   -----  \n",
      " 0   delegate         226659 non-null  object \n",
      " 1   voting_power     226659 non-null  float64\n",
      " 2   th_vp            0 non-null       object \n",
      " 3   ch_member_r2     0 non-null       object \n",
      " 4   ch_vp_r2         0 non-null       object \n",
      " 5   ch_member_r3     0 non-null       object \n",
      " 6   ch_vp_r3         0 non-null       object \n",
      " 7   ch_member_r4     0 non-null       object \n",
      " 8   ch_vp_r4         0 non-null       object \n",
      " 9   gc_member_s3     0 non-null       object \n",
      " 10  gc_vp_s3         0 non-null       object \n",
      " 11  gc_member_s4     0 non-null       object \n",
      " 12  gc_vp_s4         0 non-null       object \n",
      " 13  gc_member_s5     0 non-null       object \n",
      " 14  gc_vp_s5         0 non-null       object \n",
      " 15  gc_member_mm_s5  0 non-null       object \n",
      " 16  gc_vp_mm_s5      0 non-null       object \n",
      " 17  sc_member_s5     0 non-null       object \n",
      " 18  sc_vp_s5         0 non-null       object \n",
      " 19  coc_member_s5    0 non-null       object \n",
      " 20  coc_vp_s5        0 non-null       object \n",
      " 21  dab_member_s5    0 non-null       object \n",
      " 22  dab_vp_s5        0 non-null       object \n",
      "dtypes: float64(1), object(22)\n",
      "memory usage: 39.8+ MB\n"
     ]
    }
   ],
   "source": [
    "data.info()"
   ]
  },
  {
   "cell_type": "code",
   "execution_count": 11,
   "metadata": {},
   "outputs": [],
   "source": [
    "# Create membership columns for existing delegates\n",
    "data['ch_member_r2'] = data['delegate'].apply(lambda x: 1 if x.lower() in citizens_round2['address'].str.lower().values else 0)\n",
    "data['ch_member_r3'] = data['delegate'].apply(lambda x: 1 if x.lower() in citizens_round3['address'].str.lower().values else 0)\n",
    "data['ch_member_r4'] = data['delegate'].apply(lambda x: 1 if x.lower() in citizens_round4['address'].str.lower().values else 0)\n",
    "data['gc_member_s3'] = data['delegate'].apply(lambda x: 1 if x.lower() in grants_season3['address'].str.lower().values else 0)\n",
    "data['gc_member_s4'] = data['delegate'].apply(lambda x: 1 if x.lower() in grants_season4['address'].str.lower().values else 0)\n",
    "data['gc_member_s5'] = data['delegate'].apply(lambda x: 1 if x.lower() in grants_season5['address'].str.lower().values else 0)\n",
    "data['gc_member_mm_s5'] = data['delegate'].apply(lambda x: 1 if x.lower() in grants_mm_season5['address'].str.lower().values else 0)\n",
    "data['dab_member_s5'] = data['delegate'].apply(lambda x: 1 if x.lower() in dab_season5['address'].str.lower().values else 0)\n",
    "data['coc_member_s5'] = data['delegate'].apply(lambda x: 1 if x.lower() in coc_season5['address'].str.lower().values else 0)"
   ]
  },
  {
   "cell_type": "code",
   "execution_count": 12,
   "metadata": {},
   "outputs": [],
   "source": [
    "# Calculate the share for each delegate in each council\n",
    "sum_th_vp = data[data['voting_power'] > 1]['voting_power'].sum()\n",
    "data['th_vp'] = data.apply(lambda row: (row['voting_power'] * 100) / sum_th_vp if row['voting_power'] > 1 else 0, axis=1)\n",
    "\n",
    "count_ch_member_r2 = data['ch_member_r2'].sum()\n",
    "data['ch_vp_r2'] = data.apply(lambda row: (row['ch_member_r2'] * 100) / count_ch_member_r2 if row['ch_member_r2'] == 1 else 0, axis=1)\n",
    "\n",
    "count_ch_member_r3 = data['ch_member_r3'].sum()\n",
    "data['ch_vp_r3'] = data.apply(lambda row: (row['ch_member_r3'] * 100) / count_ch_member_r3 if row['ch_member_r3'] == 1 else 0, axis=1)\n",
    "\n",
    "count_ch_member_r4 = data['ch_member_r4'].sum()\n",
    "data['ch_vp_r4'] = data.apply(lambda row: (row['ch_member_r4'] * 100) / count_ch_member_r4 if row['ch_member_r4'] == 1 else 0, axis=1)\n",
    "\n",
    "count_gc_member_s3 = data['gc_member_s3'].sum()\n",
    "data['gc_vp_s3'] = data.apply(lambda row: (row['gc_member_s3'] * 100) / count_gc_member_s3 if row['gc_member_s3'] == 1 else 0, axis=1)\n",
    "\n",
    "count_gc_member_s4 = data['gc_member_s4'].sum()\n",
    "data['gc_vp_s4'] = data.apply(lambda row: (row['gc_member_s4'] * 100) / count_gc_member_s4 if row['gc_member_s4'] == 1 else 0, axis=1)\n",
    "\n",
    "count_gc_member_s5 = data['gc_member_s5'].sum()\n",
    "data['gc_vp_s5'] = data.apply(lambda row: (row['gc_member_s5'] * 100) / count_gc_member_s5 if row['gc_member_s5'] == 1 else 0, axis=1)\n",
    "\n",
    "count_gc_member_mm_s5 = data['gc_member_mm_s5'].sum()\n",
    "data['gc_vp_mm_s5'] = data.apply(lambda row: (row['gc_member_mm_s5'] * 100) / count_gc_member_mm_s5 if row['gc_member_mm_s5'] == 1 else 0, axis=1)\n",
    "\n",
    "count_coc_member_s5 = data['coc_member_s5'].sum()\n",
    "data['coc_vp_s5'] = data.apply(lambda row: (row['coc_member_s5'] * 100) / count_coc_member_s5 if row['coc_member_s5'] == 1 else 0, axis=1)\n",
    "\n",
    "count_dab_member_s5 = data['dab_member_s5'].sum()\n",
    "data['dab_vp_s5'] = data.apply(lambda row: (row['dab_member_s5'] * 100) / count_dab_member_s5 if row['dab_member_s5'] == 1 else 0, axis=1)\n"
   ]
  },
  {
   "cell_type": "code",
   "execution_count": 13,
   "metadata": {},
   "outputs": [],
   "source": [
    "# Define the weights \n",
    "weights_season_3_4 = {\n",
    "    'th_vp': 40,\n",
    "    'ch_vp_r2': 45,\n",
    "    'gc_vp_s3': 15,\n",
    "    'gc_vp_s4': 15\n",
    "}\n",
    "\n",
    "weights_season5 = {\n",
    "    'th_vp': 32,\n",
    "    'ch_vp_r2': 35,\n",
    "    'ch_vp_r3': 35,\n",
    "    'ch_vp_r4': 35,\n",
    "    'gc_vp_s3': 10,\n",
    "    'gc_vp_s4': 10,\n",
    "    'gc_vp_s5': 10,\n",
    "    'gc_vp_mm_s5': 3,\n",
    "    'coc_vp_s5': 4,\n",
    "    'dab_vp_s5': 3\n",
    "}"
   ]
  },
  {
   "cell_type": "code",
   "execution_count": 14,
   "metadata": {},
   "outputs": [],
   "source": [
    "round2_season3 = ['th_vp', 'ch_vp_r2', 'gc_vp_s3']\n",
    "round2_season4 = ['th_vp', 'ch_vp_r2', 'gc_vp_s4']\n",
    "round2_season5 = ['th_vp', 'ch_vp_r2', 'gc_vp_s5', 'gc_vp_mm_s5', 'dab_vp_s5', 'coc_vp_s5']\n",
    "round3_season5 = ['th_vp', 'ch_vp_r3', 'gc_vp_s5', 'gc_vp_mm_s5', 'dab_vp_s5', 'coc_vp_s5']\n",
    "round4_season5 = ['th_vp', 'ch_vp_r4', 'gc_vp_s5', 'gc_vp_mm_s5', 'dab_vp_s5', 'coc_vp_s5']"
   ]
  },
  {
   "cell_type": "code",
   "execution_count": 15,
   "metadata": {},
   "outputs": [],
   "source": [
    "# Multiply each chosen column by its respective weight and sum the results\n",
    "data['influence_r2_s3'] = sum(data[col] * (weights_season_3_4[col] / 100) for col in round2_season3)\n",
    "data['influence_r2_s4'] = sum(data[col] * (weights_season_3_4[col] / 100) for col in round2_season4)\n",
    "data['influence_r2_s5'] = sum(data[col] * (weights_season5[col] / 100) for col in round2_season5)\n",
    "data['influence_r3_s5'] = sum(data[col] * (weights_season5[col] / 100) for col in round3_season5)\n",
    "data['influence_r4_s5'] = sum(data[col] * (weights_season5[col] / 100) for col in round4_season5)"
   ]
  },
  {
   "cell_type": "code",
   "execution_count": 16,
   "metadata": {},
   "outputs": [
    {
     "data": {
      "text/plain": [
       "Index(['delegate', 'voting_power', 'th_vp', 'ch_member_r2', 'ch_vp_r2',\n",
       "       'ch_member_r3', 'ch_vp_r3', 'ch_member_r4', 'ch_vp_r4', 'gc_member_s3',\n",
       "       'gc_vp_s3', 'gc_member_s4', 'gc_vp_s4', 'gc_member_s5', 'gc_vp_s5',\n",
       "       'gc_member_mm_s5', 'gc_vp_mm_s5', 'sc_member_s5', 'sc_vp_s5',\n",
       "       'coc_member_s5', 'coc_vp_s5', 'dab_member_s5', 'dab_vp_s5',\n",
       "       'influence_r2_s3', 'influence_r2_s4', 'influence_r2_s5',\n",
       "       'influence_r3_s5', 'influence_r4_s5'],\n",
       "      dtype='object')"
      ]
     },
     "execution_count": 16,
     "metadata": {},
     "output_type": "execute_result"
    }
   ],
   "source": [
    "data.columns"
   ]
  },
  {
   "cell_type": "code",
   "execution_count": 17,
   "metadata": {},
   "outputs": [],
   "source": [
    "data.to_csv(\"../Data_Source/data.csv\", index=False)"
   ]
  }
 ],
 "metadata": {
  "kernelspec": {
   "display_name": "Python 3",
   "language": "python",
   "name": "python3"
  },
  "language_info": {
   "codemirror_mode": {
    "name": "ipython",
    "version": 3
   },
   "file_extension": ".py",
   "mimetype": "text/x-python",
   "name": "python",
   "nbconvert_exporter": "python",
   "pygments_lexer": "ipython3",
   "version": "3.12.3"
  }
 },
 "nbformat": 4,
 "nbformat_minor": 2
}
